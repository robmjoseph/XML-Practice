{
 "cells": [
  {
   "cell_type": "markdown",
   "metadata": {},
   "source": [
    "# XML exercise by Robert Joseph\n",
    "****\n",
    "+ reference: https://docs.python.org/2.7/library/xml.etree.elementtree.html\n",
    "+ data source: http://www.dbis.informatik.uni-goettingen.de/Mondial\n",
    "****"
   ]
  },
  {
   "cell_type": "code",
   "execution_count": 367,
   "metadata": {
    "collapsed": true
   },
   "outputs": [],
   "source": [
    "from xml.etree import ElementTree as ET\n",
    "import pandas as pd\n",
    "import matplotlib.pyplot as plt"
   ]
  },
  {
   "cell_type": "markdown",
   "metadata": {},
   "source": [
    "****\n",
    "## XML exercise\n",
    "\n",
    "Using data in 'data/mondial_database.xml', the examples above, and refering to https://docs.python.org/2.7/library/xml.etree.elementtree.html, find\n",
    "\n",
    "1. 10 countries with the lowest infant mortality rates\n",
    "2. 10 cities with the largest population\n",
    "3. 10 ethnic groups with the largest overall populations (sum of best/latest estimates over all countries)\n",
    "4. name and country of a) longest river, b) largest lake and c) airport at highest elevation"
   ]
  },
  {
   "cell_type": "code",
   "execution_count": 5,
   "metadata": {},
   "outputs": [],
   "source": [
    "document = ET.parse( './data/mondial_database.xml' )"
   ]
  },
  {
   "cell_type": "markdown",
   "metadata": {},
   "source": [
    "# Answer 1\n",
    "The 10 countries with the lowest infant mortality rates were found by creating two empty lists. The first list, name_list, was used to hold the names of the countries, while the second, mort_list, was used to hold the mortality rates. The for loop was used to iterate over the countries, and the countries with infant mortality values were appended to mort_list, along with the associated countries to name_list. The lists were then used to create a dictionary, dict1, that was in turn used in the creation of a dataframe with pandas. The dataframe was then sorted by mortality and the 10 lowest were found by calling the head function."
   ]
  },
  {
   "cell_type": "code",
   "execution_count": 394,
   "metadata": {},
   "outputs": [
    {
     "data": {
      "text/html": [
       "<div>\n",
       "<style>\n",
       "    .dataframe thead tr:only-child th {\n",
       "        text-align: right;\n",
       "    }\n",
       "\n",
       "    .dataframe thead th {\n",
       "        text-align: left;\n",
       "    }\n",
       "\n",
       "    .dataframe tbody tr th {\n",
       "        vertical-align: top;\n",
       "    }\n",
       "</style>\n",
       "<table border=\"1\" class=\"dataframe\">\n",
       "  <thead>\n",
       "    <tr style=\"text-align: right;\">\n",
       "      <th></th>\n",
       "      <th>Country</th>\n",
       "      <th>Mortality</th>\n",
       "    </tr>\n",
       "  </thead>\n",
       "  <tbody>\n",
       "    <tr>\n",
       "      <th>36</th>\n",
       "      <td>Monaco</td>\n",
       "      <td>1.81</td>\n",
       "    </tr>\n",
       "    <tr>\n",
       "      <th>90</th>\n",
       "      <td>Japan</td>\n",
       "      <td>2.13</td>\n",
       "    </tr>\n",
       "    <tr>\n",
       "      <th>109</th>\n",
       "      <td>Bermuda</td>\n",
       "      <td>2.48</td>\n",
       "    </tr>\n",
       "    <tr>\n",
       "      <th>34</th>\n",
       "      <td>Norway</td>\n",
       "      <td>2.48</td>\n",
       "    </tr>\n",
       "    <tr>\n",
       "      <th>98</th>\n",
       "      <td>Singapore</td>\n",
       "      <td>2.53</td>\n",
       "    </tr>\n",
       "    <tr>\n",
       "      <th>35</th>\n",
       "      <td>Sweden</td>\n",
       "      <td>2.60</td>\n",
       "    </tr>\n",
       "    <tr>\n",
       "      <th>8</th>\n",
       "      <td>Czech Republic</td>\n",
       "      <td>2.63</td>\n",
       "    </tr>\n",
       "    <tr>\n",
       "      <th>72</th>\n",
       "      <td>Hong Kong</td>\n",
       "      <td>2.73</td>\n",
       "    </tr>\n",
       "    <tr>\n",
       "      <th>73</th>\n",
       "      <td>Macao</td>\n",
       "      <td>3.13</td>\n",
       "    </tr>\n",
       "    <tr>\n",
       "      <th>39</th>\n",
       "      <td>Iceland</td>\n",
       "      <td>3.15</td>\n",
       "    </tr>\n",
       "  </tbody>\n",
       "</table>\n",
       "</div>"
      ],
      "text/plain": [
       "            Country  Mortality\n",
       "36           Monaco       1.81\n",
       "90            Japan       2.13\n",
       "109         Bermuda       2.48\n",
       "34           Norway       2.48\n",
       "98        Singapore       2.53\n",
       "35           Sweden       2.60\n",
       "8    Czech Republic       2.63\n",
       "72        Hong Kong       2.73\n",
       "73            Macao       3.13\n",
       "39          Iceland       3.15"
      ]
     },
     "execution_count": 394,
     "metadata": {},
     "output_type": "execute_result"
    }
   ],
   "source": [
    "name_list = []\n",
    "mort_list = []\n",
    "for element in document.iterfind('country'):\n",
    "    try:\n",
    "        if element.find('infant_mortality').text:\n",
    "            name_list.append(element.find('name').text)\n",
    "            mort_list.append(float(element.find('infant_mortality').text))\n",
    "            \n",
    "    except (AttributeError):\n",
    "        pass\n",
    "dict1 = {'Country': name_list, 'Mortality': mort_list}\n",
    "mort_df = pd.DataFrame.from_dict(dict1)\n",
    "mort_df.sort_values(by='Mortality').head(10)\n"
   ]
  },
  {
   "cell_type": "code",
   "execution_count": 393,
   "metadata": {},
   "outputs": [
    {
     "data": {
      "image/png": "[encoded data removed]",
      "text/plain": [
       "<matplotlib.figure.Figure at 0x13302f358>"
      ]
     },
     "metadata": {},
     "output_type": "display_data"
    }
   ],
   "source": [
    "(mort_df.sort_values(by='Mortality').head(10)).plot.bar(x='Country',y='Mortality',color='G');\n",
    "plt.show()"
   ]
  },
  {
   "cell_type": "markdown",
   "metadata": {},
   "source": [
    "# Answer 2\n",
    "\n",
    "The 10 cities with the largest population were found by creating two empty lists. The first list, city_list, was used to hold the names of the cities, while the second, pop_list, was used to hold the population values. Nested for loops were used to iterate over the countries and cities, and the cities with population values were appended to city_list, along with the associated populations to pop_list. The lists were then used to create a dictionary, dict1, that was in turn used in the creation of a dataframe with pandas. The dataframe was then sorted by population and the 10 highest were found by calling the tail function.\n"
   ]
  },
  {
   "cell_type": "code",
   "execution_count": 397,
   "metadata": {
    "scrolled": true
   },
   "outputs": [
    {
     "data": {
      "text/html": [
       "<div>\n",
       "<style>\n",
       "    .dataframe thead tr:only-child th {\n",
       "        text-align: right;\n",
       "    }\n",
       "\n",
       "    .dataframe thead th {\n",
       "        text-align: left;\n",
       "    }\n",
       "\n",
       "    .dataframe tbody tr th {\n",
       "        vertical-align: top;\n",
       "    }\n",
       "</style>\n",
       "<table border=\"1\" class=\"dataframe\">\n",
       "  <thead>\n",
       "    <tr style=\"text-align: right;\">\n",
       "      <th></th>\n",
       "      <th>City</th>\n",
       "      <th>Population</th>\n",
       "    </tr>\n",
       "  </thead>\n",
       "  <tbody>\n",
       "    <tr>\n",
       "      <th>977</th>\n",
       "      <td>Shenzhen</td>\n",
       "      <td>10358381</td>\n",
       "    </tr>\n",
       "    <tr>\n",
       "      <th>1467</th>\n",
       "      <td>Delhi</td>\n",
       "      <td>11034555</td>\n",
       "    </tr>\n",
       "    <tr>\n",
       "      <th>974</th>\n",
       "      <td>Guangzhou</td>\n",
       "      <td>11071424</td>\n",
       "    </tr>\n",
       "    <tr>\n",
       "      <th>1252</th>\n",
       "      <td>Tianjin</td>\n",
       "      <td>11090314</td>\n",
       "    </tr>\n",
       "    <tr>\n",
       "      <th>2594</th>\n",
       "      <td>São Paulo</td>\n",
       "      <td>11152344</td>\n",
       "    </tr>\n",
       "    <tr>\n",
       "      <th>1250</th>\n",
       "      <td>Beijing</td>\n",
       "      <td>11716620</td>\n",
       "    </tr>\n",
       "    <tr>\n",
       "      <th>443</th>\n",
       "      <td>Moskva</td>\n",
       "      <td>11979529</td>\n",
       "    </tr>\n",
       "    <tr>\n",
       "      <th>1421</th>\n",
       "      <td>Mumbai</td>\n",
       "      <td>12442373</td>\n",
       "    </tr>\n",
       "    <tr>\n",
       "      <th>707</th>\n",
       "      <td>Istanbul</td>\n",
       "      <td>13710512</td>\n",
       "    </tr>\n",
       "    <tr>\n",
       "      <th>1251</th>\n",
       "      <td>Shanghai</td>\n",
       "      <td>22315474</td>\n",
       "    </tr>\n",
       "  </tbody>\n",
       "</table>\n",
       "</div>"
      ],
      "text/plain": [
       "           City  Population\n",
       "977    Shenzhen    10358381\n",
       "1467      Delhi    11034555\n",
       "974   Guangzhou    11071424\n",
       "1252    Tianjin    11090314\n",
       "2594  São Paulo    11152344\n",
       "1250    Beijing    11716620\n",
       "443      Moskva    11979529\n",
       "1421     Mumbai    12442373\n",
       "707    Istanbul    13710512\n",
       "1251   Shanghai    22315474"
      ]
     },
     "execution_count": 397,
     "metadata": {},
     "output_type": "execute_result"
    }
   ],
   "source": [
    "city_list = []\n",
    "pop_list = []\n",
    "for element in document.iterfind('country'):\n",
    "    for subelement in element.getiterator('city'):\n",
    "        try:\n",
    "            if subelement.find('population').text:\n",
    "                city_list.append(subelement.find('name').text)\n",
    "                pop_list.append(int(subelement.find('population[last()]').text))\n",
    "            \n",
    "        except (AttributeError):\n",
    "            pass\n",
    "dict1 = {'City': city_list, 'Population': pop_list}\n",
    "mort_df = pd.DataFrame.from_dict(dict1)\n",
    "mort_df.sort_values(by='Population').tail(10)"
   ]
  },
  {
   "cell_type": "code",
   "execution_count": 400,
   "metadata": {},
   "outputs": [
    {
     "data": {
      "image/png": "[encoded data removed]",
      "text/plain": [
       "<matplotlib.figure.Figure at 0x1334d0048>"
      ]
     },
     "metadata": {},
     "output_type": "display_data"
    }
   ],
   "source": [
    "(mort_df.sort_values(by='Population').tail(10)).plot.bar(x='City',y='Population', color='R');\n",
    "plt.show()"
   ]
  },
  {
   "cell_type": "markdown",
   "metadata": {},
   "source": [
    "# Answer 3\n",
    "\n",
    "The 10 ethnic groups with the largest overall population were found by creating four empty lists. The first list, ethnic, was used to hold ethnic groups, the second, perc, was used to hold the ethnic group's percentage, the third, ctry, was used to hold the countries, and the fourth, pop_amt, was used to hold the population of the country. The for loop was used to iterate over the countries, and the countries with ethnic group values were appended to ctry, the ethnic group was appended to ethnic, the percentage of the group was appended to perc, and the population of the country appended to pop_amt. The lists were then used to create a dictionary, dict1, that was in turn used in the creation of a dataframe with pandas. A new column was added to the dataframe, 'Ethnic Population', that was a calculation of the number of the Ethnicity's population using the 'Percentage' and 'Population' columns. A new dataframe was created where a 'groupby' was done on the 'Ethnicity' column and the 'Ethnic Population' colummn was summed over the countries, and the index reset. The values were then sorted by the 'Ethnic Population' column in descending order and the top 10 selected using head call."
   ]
  },
  {
   "cell_type": "code",
   "execution_count": 85,
   "metadata": {
    "scrolled": true
   },
   "outputs": [
    {
     "data": {
      "text/html": [
       "<div>\n",
       "<style>\n",
       "    .dataframe thead tr:only-child th {\n",
       "        text-align: right;\n",
       "    }\n",
       "\n",
       "    .dataframe thead th {\n",
       "        text-align: left;\n",
       "    }\n",
       "\n",
       "    .dataframe tbody tr th {\n",
       "        vertical-align: top;\n",
       "    }\n",
       "</style>\n",
       "<table border=\"1\" class=\"dataframe\">\n",
       "  <thead>\n",
       "    <tr style=\"text-align: right;\">\n",
       "      <th></th>\n",
       "      <th>Ethnicity</th>\n",
       "      <th>Ethnic Population</th>\n",
       "    </tr>\n",
       "  </thead>\n",
       "  <tbody>\n",
       "    <tr>\n",
       "      <th>113</th>\n",
       "      <td>Han Chinese</td>\n",
       "      <td>1.245059e+09</td>\n",
       "    </tr>\n",
       "    <tr>\n",
       "      <th>120</th>\n",
       "      <td>Indo-Aryan</td>\n",
       "      <td>8.718156e+08</td>\n",
       "    </tr>\n",
       "    <tr>\n",
       "      <th>89</th>\n",
       "      <td>European</td>\n",
       "      <td>4.948722e+08</td>\n",
       "    </tr>\n",
       "    <tr>\n",
       "      <th>2</th>\n",
       "      <td>African</td>\n",
       "      <td>3.183251e+08</td>\n",
       "    </tr>\n",
       "    <tr>\n",
       "      <th>77</th>\n",
       "      <td>Dravidian</td>\n",
       "      <td>3.027137e+08</td>\n",
       "    </tr>\n",
       "    <tr>\n",
       "      <th>176</th>\n",
       "      <td>Mestizo</td>\n",
       "      <td>1.577344e+08</td>\n",
       "    </tr>\n",
       "    <tr>\n",
       "      <th>42</th>\n",
       "      <td>Bengali</td>\n",
       "      <td>1.467769e+08</td>\n",
       "    </tr>\n",
       "    <tr>\n",
       "      <th>217</th>\n",
       "      <td>Russian</td>\n",
       "      <td>1.318570e+08</td>\n",
       "    </tr>\n",
       "    <tr>\n",
       "      <th>128</th>\n",
       "      <td>Japanese</td>\n",
       "      <td>1.265342e+08</td>\n",
       "    </tr>\n",
       "    <tr>\n",
       "      <th>163</th>\n",
       "      <td>Malay</td>\n",
       "      <td>1.219936e+08</td>\n",
       "    </tr>\n",
       "  </tbody>\n",
       "</table>\n",
       "</div>"
      ],
      "text/plain": [
       "       Ethnicity  Ethnic Population\n",
       "113  Han Chinese       1.245059e+09\n",
       "120   Indo-Aryan       8.718156e+08\n",
       "89      European       4.948722e+08\n",
       "2        African       3.183251e+08\n",
       "77     Dravidian       3.027137e+08\n",
       "176      Mestizo       1.577344e+08\n",
       "42       Bengali       1.467769e+08\n",
       "217      Russian       1.318570e+08\n",
       "128     Japanese       1.265342e+08\n",
       "163        Malay       1.219936e+08"
      ]
     },
     "execution_count": 85,
     "metadata": {},
     "output_type": "execute_result"
    }
   ],
   "source": [
    "ethnic = []\n",
    "perc = []\n",
    "ctry = []\n",
    "pop_amt = []\n",
    "for element in document.iterfind('country'):\n",
    "    try:\n",
    "        if element.find('ethnicgroup').text:\n",
    "            for aGroup in element.findall('ethnicgroup'):\n",
    "                ethnic.append(aGroup.text)\n",
    "                perc.append(float(aGroup.attrib.get('percentage')))\n",
    "                pop_amt.append(int(element.find('population[last()]').text))\n",
    "                ctry.append(element.find('name').text)\n",
    "    except (AttributeError):\n",
    "        pass\n",
    "    \n",
    "dict1 = {'Country': ctry, 'Population': pop_amt, 'Ethnicity': ethnic, 'Percentage': perc}\n",
    "new_df = pd.DataFrame.from_dict(dict1)\n",
    "new_df['Ethnic Population'] = new_df['Percentage']/100 * new_df['Population']\n",
    "new_df2 = pd.DataFrame(new_df.groupby('Ethnicity')['Ethnic Population'].sum()).reset_index()\n",
    "new_df2.sort_values(by='Ethnic Population', ascending = False).head(10)"
   ]
  },
  {
   "cell_type": "code",
   "execution_count": 403,
   "metadata": {},
   "outputs": [
    {
     "data": {
      "image/png": "[encoded data removed]",
      "text/plain": [
       "<matplotlib.figure.Figure at 0x133734898>"
      ]
     },
     "metadata": {},
     "output_type": "display_data"
    }
   ],
   "source": [
    "(new_df2.sort_values(by='Ethnic Population', ascending = False).head(10)).plot.bar(x='Ethnicity',y='Ethnic Population');\n",
    "plt.show()"
   ]
  },
  {
   "cell_type": "markdown",
   "metadata": {},
   "source": [
    "# Answer 4\n",
    "The question of finding the longest river, largest lake, and highest airport was solved using three functions. The first function, maxElement, was a list comprehension that returned the max value after the path of an element had been entered. The second function, countryCode, called the maxElement function and used the returned value in a conditional statement in order to identify the country code associated with the value of the maximum value in the list. Then theCountry function used the value returned by the 'countryCode' function to identify the associated country/countries. 'theCountry' function was then called three times with necessary parameters in order to identify answer the three parts of the question."
   ]
  },
  {
   "cell_type": "code",
   "execution_count": 363,
   "metadata": {},
   "outputs": [],
   "source": [
    "#Function takes the path of the element like 'airport/elevation' and returns the maximum value in the list\n",
    "\n",
    "def maxElement(eleName):\n",
    "    return max([float(x.text) for x in document.findall(eleName) if x.text])\n",
    "\n",
    "#Function takes an element to search on like 'airport' or 'river' in the first position, and the measure like\n",
    "#'length' or 'elevation' in the second position, with the last position having a default of country. It returns\n",
    "#the country code associated with the maximum element\n",
    "\n",
    "def countryCode (searchEl,numericEl,countryEl = 'country'):\n",
    "    thisMax = maxElement(searchEl + '/' + numericEl)\n",
    "    for sEle in document.findall(searchEl):\n",
    "        try:\n",
    "            if (sEle.find(numericEl).text) and (thisMax == float(sEle.find(numericEl).text)):\n",
    "                print ('Name: ' + sEle.find('name').text)\n",
    "                return (sEle.attrib.get(countryEl))\n",
    "        except:\n",
    "            pass\n",
    "\n",
    "#Function takes an element to search on like 'airport' or 'river' in the first position, and the measure like\n",
    "#'length' or 'elevation' in the second position, with the last position having a default of country. It returns\n",
    "#the name and country associated with the maximum element and country code(s).\n",
    "\n",
    "def theCountry(theEle, nEl, tCntry = 'country'):\n",
    "    cCode = countryCode(theEle,nEl)\n",
    "    for theCode in document.findall(tCntry):\n",
    "        try:\n",
    "            if (theCode.find('name').text) and (cCode == theCode.attrib.get('car_code')):\n",
    "                print ('Country: ' + theCode.find('name').text)\n",
    "            else:\n",
    "                cList = cCode.split()\n",
    "                for code in cList:\n",
    "                    if (theCode.find('name').text) and (code == theCode.attrib.get('car_code')):\n",
    "                        print ('Country: ' + theCode.find('name').text)\n",
    "        except:\n",
    "            pass"
   ]
  },
  {
   "cell_type": "code",
   "execution_count": 362,
   "metadata": {},
   "outputs": [
    {
     "name": "stdout",
     "output_type": "stream",
     "text": [
      "Name: Amazonas\n",
      "Country: Colombia\n",
      "Country: Brazil\n",
      "Country: Peru\n"
     ]
    }
   ],
   "source": [
    "theCountry('river', 'length')"
   ]
  },
  {
   "cell_type": "code",
   "execution_count": 364,
   "metadata": {},
   "outputs": [
    {
     "name": "stdout",
     "output_type": "stream",
     "text": [
      "Name: Caspian Sea\n",
      "Country: Russia\n",
      "Country: Iran\n",
      "Country: Turkmenistan\n",
      "Country: Azerbaijan\n",
      "Country: Kazakhstan\n"
     ]
    }
   ],
   "source": [
    "theCountry('lake', 'area')"
   ]
  },
  {
   "cell_type": "code",
   "execution_count": 365,
   "metadata": {},
   "outputs": [
    {
     "name": "stdout",
     "output_type": "stream",
     "text": [
      "Name: El Alto Intl\n",
      "Country: Bolivia\n"
     ]
    }
   ],
   "source": [
    "theCountry('airport', 'elevation')"
   ]
  }
 ],
 "metadata": {
  "kernelspec": {
   "display_name": "Python 3",
   "language": "python",
   "name": "python3"
  },
  "language_info": {
   "codemirror_mode": {
    "name": "ipython",
    "version": 3
   },
   "file_extension": ".py",
   "mimetype": "text/x-python",
   "name": "python",
   "nbconvert_exporter": "python",
   "pygments_lexer": "ipython3",
   "version": "3.6.1"
  }
 },
 "nbformat": 4,
 "nbformat_minor": 1
}
